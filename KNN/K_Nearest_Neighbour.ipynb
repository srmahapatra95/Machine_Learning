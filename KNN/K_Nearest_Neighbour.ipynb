{
 "cells": [
  {
   "cell_type": "code",
   "execution_count": null,
   "id": "4163d5f8-0af0-40f8-969d-4eec43c741ad",
   "metadata": {},
   "outputs": [],
   "source": [
    "import numpy as np\n",
    "from collections import Counter"
   ]
  },
  {
   "cell_type": "code",
   "execution_count": 1,
   "id": "ebf63c53-a248-409f-9b6b-c99373c5335f",
   "metadata": {},
   "outputs": [],
   "source": [
    "def euclidean_distance(x1, x2):\n",
    "    return np.sqrt(np.sum((x1-x2)**2))\n",
    "class KNN:\n",
    "    def __init__(self, k=3):\n",
    "        self.k = k\n",
    "    def fit(self, X, y):\n",
    "        self.X_train = X\n",
    "        self.y_train = y\n",
    "    def predict(self, X):\n",
    "        predictions = [self._predict(x) for x in X]\n",
    "        return predictions\n",
    "\n",
    "    def _predict(self,x):\n",
    "        euclidean_distances = [euclidean_distance(x, x_train) for x_train in X_train]\n",
    "        k_indices = np.argsort(euclidean_distances)[:self.k]\n",
    "        k_nearest_lables = [self.y_train[i] for i in k_indices]\n",
    "        most_common_label = Counter(k_nearest_lables).most_common()\n",
    "        return most_common_label[0][0]"
   ]
  },
  {
   "cell_type": "code",
   "execution_count": null,
   "id": "e3c2873b-0dbf-49ec-a71d-dadb0e5772d3",
   "metadata": {},
   "outputs": [],
   "source": []
  }
 ],
 "metadata": {
  "kernelspec": {
   "display_name": "Python 3 (ipykernel)",
   "language": "python",
   "name": "python3"
  },
  "language_info": {
   "codemirror_mode": {
    "name": "ipython",
    "version": 3
   },
   "file_extension": ".py",
   "mimetype": "text/x-python",
   "name": "python",
   "nbconvert_exporter": "python",
   "pygments_lexer": "ipython3",
   "version": "3.11.7"
  }
 },
 "nbformat": 4,
 "nbformat_minor": 5
}
