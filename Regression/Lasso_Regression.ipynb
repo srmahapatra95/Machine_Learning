{
 "cells": [
  {
   "cell_type": "code",
   "execution_count": 12,
   "id": "d66e60c1-c67b-473d-9c9a-718dddbf05bf",
   "metadata": {},
   "outputs": [],
   "source": [
    "import numpy as np\n",
    "import pandas as pd"
   ]
  },
  {
   "cell_type": "code",
   "execution_count": 13,
   "id": "2a136443-c276-401d-a170-cc092cac4c8c",
   "metadata": {},
   "outputs": [],
   "source": [
    "class LassoRegression:\n",
    "\n",
    "    def __init__(self, n_iters = 1000, lr= 0.01, L1 = 1.0):\n",
    "        self.n_iters = n_iters\n",
    "        self.lr = lr\n",
    "        self.weights = None\n",
    "        self.bias = None\n",
    "        self.L1 = L1\n",
    "    def fit(self, X, y):\n",
    "        n_samples, n_features = X.shape\n",
    "        self.weights = np.zeros(n_features)\n",
    "        self.bias = 0\n",
    "\n",
    "        for i in range(self.n_iters):\n",
    "            y_pred = np.dot(X,self.weights) + self.bias\n",
    "            dw = -(1/n_samples)*(np.dot(X.T, (y-y_pred)))\n",
    "            db = -(1/n_samples)*np.sum(y-y_pred)\n",
    "\n",
    "            dw_l1 = self.L1*np.sign(self.weights)*(1/n_samples)\n",
    "\n",
    "            self.weights = self.weights - self.lr * (dw+dw_l1)\n",
    "            self.bias = self.bias - self.lr * db\n",
    "\n",
    "    def predict(self,X):\n",
    "        y_pred = np.dot(X,self.weights) + self.bias\n",
    "        return y_pred\n",
    "        \n",
    "    @property\n",
    "    def coefficients(self):\n",
    "        return self.weights"
   ]
  }
 ],
 "metadata": {
  "kernelspec": {
   "display_name": "Python 3 (ipykernel)",
   "language": "python",
   "name": "python3"
  },
  "language_info": {
   "codemirror_mode": {
    "name": "ipython",
    "version": 3
   },
   "file_extension": ".py",
   "mimetype": "text/x-python",
   "name": "python",
   "nbconvert_exporter": "python",
   "pygments_lexer": "ipython3",
   "version": "3.11.7"
  }
 },
 "nbformat": 4,
 "nbformat_minor": 5
}
