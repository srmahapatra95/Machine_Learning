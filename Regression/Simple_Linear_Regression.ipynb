{
 "cells": [
  {
   "cell_type": "markdown",
   "id": "202ed9a5-d850-4b1d-85a1-233991cc90de",
   "metadata": {},
   "source": [
    "# Simple Linear Regression Using Vectorized Approach"
   ]
  },
  {
   "cell_type": "markdown",
   "id": "a6f129d5-afca-4a85-b172-fd0c73a19203",
   "metadata": {},
   "source": [
    "* Linear Regression is a simple statistical model, often used to model the relationshio between a dependent variable and one/more independent variables. If there is a significant relationship between them. It can be used to model, to some degree of accuracy, where a mechanistic model(like physical equations that predict the future states) does not exist and for the purpose of understanding, we need to discover an empirical model in its place that still has predicting capcbilites to an extent that is often acceptable.\n",
    "* It assumes a linear relationship between the features and target. Any deviations from linear behaviour between the feature and the target might impact the accuracy of the model by introducing bias, hence reducing the predictive power.\n",
    "* It is generally to be used where no existing mathematical or physics, or domain specific equations exist to predict the future state of the variable of interest, but if if we have a large dataset at our disposal then we can train this simple model to acquire the required parameters to efficiently describe the model."
   ]
  },
  {
   "cell_type": "markdown",
   "id": "e4449341-1c46-4bfb-9520-94505ef42f7b",
   "metadata": {},
   "source": [
    "## Assumptions of Linear Regression"
   ]
  },
  {
   "cell_type": "markdown",
   "id": "b0c56b1f-8f48-42be-a208-1818f4712289",
   "metadata": {},
   "source": [
    "1) Linearity:The linearity assumption in linear regression means the relationship between the independent and dependent variables is linear.\n",
    "2) Independence: Observations must be independent of each other.(Why ?)\n",
    "3) No Multicollinearity: Independent variables must not be highly correlated with each other, can lead to difficulty in predicting the contribution fo the individual feature to the model, further more if there is a correlation betwwen the features then the most important feature can be represented saving space and computation time.\n",
    "4) Homoscedasticity: (??)"
   ]
  },
  {
   "cell_type": "markdown",
   "id": "09ec9efc-8f41-491b-a2d2-cafa238079c2",
   "metadata": {},
   "source": [
    "## Steps in Linear Regression"
   ]
  },
  {
   "cell_type": "markdown",
   "id": "b23d768e-42a8-4b38-b8e6-156c9c76f0a5",
   "metadata": {},
   "source": [
    "1) From the Dataset determine the target and the feature and then then split the data into training data and testing data.\n",
    "2) Define the maximum no of iterations that your model is going to take to train and the learning rate parameter.\n",
    "3) From the feature dataset determine the no of samples present in the data and the no of features present in the data.\n",
    "4) Initialize the primary values of the weights and bias to zero.\n",
    "5) Start the iteration\n",
    "6) Make the primary prediction using the initialized weights and bias\n",
    "7) Calculate the gradient descent, for weigths and bias(in vectorized format)\n",
    "8) Update the weight and the bias and continue till the max-iterations is reached\n",
    "9) Use the test data to predict"
   ]
  },
  {
   "cell_type": "code",
   "execution_count": null,
   "id": "492d59a7-5faa-401a-b6ca-fea15fc1cb47",
   "metadata": {},
   "outputs": [],
   "source": [
    "import numpy as np"
   ]
  },
  {
   "cell_type": "code",
   "execution_count": 2,
   "id": "c7fb0e5f-baee-4ee7-898e-e462f7902cee",
   "metadata": {},
   "outputs": [],
   "source": [
    "class LinearRegression:\n",
    "\n",
    "    def __init__(self, n_iters = 1000, lr= 0.01):\n",
    "        self.n_iters = n_iters\n",
    "        self.lr = lr\n",
    "        self.weights = None\n",
    "        self.bias = None\n",
    "    def fit(self, X, y):\n",
    "        n_samples, n_features = X.shape\n",
    "        self.weights = np.zeros(n_features)\n",
    "        self.bias = 0\n",
    "\n",
    "        for i in range(self.n_iters):\n",
    "            y_pred = np.dot(X,self.weights) + self.bias\n",
    "            dw = -(1/n_samples)*(np.dot(X.T, (y-y_pred)))\n",
    "            db = -(1/n_samples)*np.sum(y-y_pred)\n",
    "\n",
    "            self.weights = self.weights - self.lr * dw\n",
    "            self.bias = self.bias - self.lr * db\n",
    "    def predict(self,X):\n",
    "        y_pred = np.dot(X,self.weights) + self.bias\n",
    "        return y_pred"
   ]
  },
  {
   "cell_type": "markdown",
   "id": "e377da6a-6c82-4e44-b631-6846b356bb82",
   "metadata": {},
   "source": [
    "## Advantages of Linear Regression:"
   ]
  },
  {
   "cell_type": "markdown",
   "id": "51d22484-57a9-40fb-8df1-73fceaa89116",
   "metadata": {},
   "source": [
    "1)\tSimple to understand and implement.\n",
    "2)\tFast to train.\n",
    "3)\tInterpretability: The coefficients provide the insights into the relationship between the variables and the target."
   ]
  },
  {
   "cell_type": "markdown",
   "id": "8f84b8cf-22b0-48b9-84d2-3b6207f8368d",
   "metadata": {},
   "source": [
    "## Disadvantages of Linear Regression:"
   ]
  },
  {
   "cell_type": "markdown",
   "id": "fab1079c-4de1-4a12-9fe1-40153c93eeed",
   "metadata": {},
   "source": [
    "1)\tAssumes a linear relationship, if the relationship is not linear the model may not be accurate, can use polynomial regression.\n",
    "2)\tSensitive to outliers: Outliers can effectively impact the model’s performance.\n",
    "3)\tMay not capture the complex non-linear relationships."
   ]
  },
  {
   "cell_type": "code",
   "execution_count": null,
   "id": "2010c5da-68db-42d9-814a-0cfab7772727",
   "metadata": {},
   "outputs": [],
   "source": []
  }
 ],
 "metadata": {
  "kernelspec": {
   "display_name": "Python 3 (ipykernel)",
   "language": "python",
   "name": "python3"
  },
  "language_info": {
   "codemirror_mode": {
    "name": "ipython",
    "version": 3
   },
   "file_extension": ".py",
   "mimetype": "text/x-python",
   "name": "python",
   "nbconvert_exporter": "python",
   "pygments_lexer": "ipython3",
   "version": "3.11.7"
  }
 },
 "nbformat": 4,
 "nbformat_minor": 5
}
