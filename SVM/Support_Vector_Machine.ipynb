{
 "cells": [
  {
   "cell_type": "code",
   "execution_count": 42,
   "id": "444eb9e5-915e-4df9-8873-5f72cfb8d9eb",
   "metadata": {},
   "outputs": [],
   "source": [
    "import numpy as np"
   ]
  },
  {
   "cell_type": "code",
   "execution_count": 52,
   "id": "3bafb736-5c6f-4f5d-9724-f6a820b7e467",
   "metadata": {},
   "outputs": [],
   "source": [
    "class SVM:\n",
    "    def __init__(self,learning_rate=0.01,lambda_param = 1.0,n_iters = 1000):\n",
    "        self.n_iters = n_iters\n",
    "        self.lambda_param = lambda_param\n",
    "        self.learning_rate=learning_rate\n",
    "    def fit(self, X, y):\n",
    "        n_samples, n_feats = X.shape\n",
    "        self.w = np.zeros(n_feats)\n",
    "        self.b = 0\n",
    "\n",
    "        y_ = np.where(y<0,-1,1)\n",
    "        for _ in range(self.n_iters):\n",
    "            for idx, x in enumerate(X):\n",
    "                condition = y_[idx]*(np.dot(x,self.w)-self.b) >= 1\n",
    "                # using hinge loss for regularization\n",
    "                if condition:\n",
    "                    self.w -= self.learning_rate*(2*self.lambda_param*self.w)\n",
    "                else:\n",
    "                    self.w -= self.learning_rate*(2*self.lambda_param*self.w - np.dot(x,y_[idx]))\n",
    "                    self.b -= self.learning_rate*y_[idx]\n",
    "    def predict(self, X):\n",
    "        val=np.dot(X,self.w)-self.b\n",
    "        return np.sign(val)"
   ]
  }
 ],
 "metadata": {
  "kernelspec": {
   "display_name": "Python 3 (ipykernel)",
   "language": "python",
   "name": "python3"
  },
  "language_info": {
   "codemirror_mode": {
    "name": "ipython",
    "version": 3
   },
   "file_extension": ".py",
   "mimetype": "text/x-python",
   "name": "python",
   "nbconvert_exporter": "python",
   "pygments_lexer": "ipython3",
   "version": "3.11.7"
  }
 },
 "nbformat": 4,
 "nbformat_minor": 5
}
