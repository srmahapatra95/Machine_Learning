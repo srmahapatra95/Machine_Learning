{
 "cells": [
  {
   "cell_type": "code",
   "execution_count": 52,
   "id": "40248fa1-b1a3-4047-a30f-ef07e26ba6c4",
   "metadata": {},
   "outputs": [],
   "source": [
    "import numpy as np"
   ]
  },
  {
   "cell_type": "code",
   "execution_count": 81,
   "id": "f0a8142d-5800-403c-8079-40b365e196a2",
   "metadata": {},
   "outputs": [],
   "source": [
    "class Logistic_Regression:\n",
    "\n",
    "    def __init__(self, n_iters = 1000, lr= 0.01):\n",
    "        self.n_iters = n_iters\n",
    "        self.lr = lr\n",
    "        self.weights = None\n",
    "        self.bias = None\n",
    "\n",
    "    def sigmoid(self,val):\n",
    "        return 1/ (1 + np.exp(-val))\n",
    "    \n",
    "    def fit(self, X, y):\n",
    "        n_samples, n_features = X.shape\n",
    "        self.weights = np.zeros(n_features)\n",
    "        self.bias = 0\n",
    "\n",
    "        for i in range(self.n_iters):\n",
    "            y_pred = np.dot(X,self.weights) + self.bias\n",
    "            y_pred  = self.sigmoid(y_pred)\n",
    "\n",
    "            dw = -(1/n_samples)*(np.dot(X.T, (y-y_pred)))\n",
    "            db = -(1/n_samples)*np.sum(y-y_pred)\n",
    "\n",
    "            self.weights = self.weights - self.lr * dw\n",
    "            self.bias = self.bias - self.lr * db\n",
    "    def predict(self,X):\n",
    "        y_pred = np.dot(X,self.weights) + self.bias\n",
    "        y_pred = self.sigmoid(y_pred)\n",
    "        labels = [1 if i > 0.5 else 0 for i in y_pred]\n",
    "        return labels"
   ]
  }
 ],
 "metadata": {
  "kernelspec": {
   "display_name": "Python 3 (ipykernel)",
   "language": "python",
   "name": "python3"
  },
  "language_info": {
   "codemirror_mode": {
    "name": "ipython",
    "version": 3
   },
   "file_extension": ".py",
   "mimetype": "text/x-python",
   "name": "python",
   "nbconvert_exporter": "python",
   "pygments_lexer": "ipython3",
   "version": "3.11.7"
  }
 },
 "nbformat": 4,
 "nbformat_minor": 5
}
