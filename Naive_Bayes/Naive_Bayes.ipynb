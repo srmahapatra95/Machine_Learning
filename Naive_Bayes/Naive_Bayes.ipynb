{
 "cells": [
  {
   "cell_type": "code",
   "execution_count": 2,
   "id": "33f59638-bdc2-4683-acd9-726dbe3d18e4",
   "metadata": {},
   "outputs": [],
   "source": [
    "import numpy as np"
   ]
  },
  {
   "cell_type": "code",
   "execution_count": 1,
   "id": "58f76b64-8e35-4b6c-92d7-f88c87e27b6f",
   "metadata": {},
   "outputs": [],
   "source": [
    "class Naive_Bayes:\n",
    "    def fit(self, X, y):\n",
    "        n_samples, n_features = X.shape\n",
    "        self._classes = np.unique(y)\n",
    "        n_classes = len(self.n_classes)\n",
    "\n",
    "        self._mean = np.zeros((n_classes, n_fefatures), dtype=np.float64)\n",
    "        self._var = np.zeros((n_classes, n_fefatures), dtype=np.float64)\n",
    "        self._priors = np.zeros((n_classes, n_fefatures), dtype=np.float64)\n",
    "\n",
    "        for idx, c in enumerate(self._classes):\n",
    "            X_c = X[y==c]\n",
    "            self._mean[idx,:] = X_c.mean(axis=0)\n",
    "            self._var[idx,:] = X_c.var(axis=0)\n",
    "            self._priors[idx,:] = X_c.shape[0]/(n_samples)\n",
    "\n",
    "\n",
    "    def _predict(self, x):\n",
    "        posteriors = []\n",
    "\n",
    "        for idx, c in enumerate(self._classes):\n",
    "            prior = np.log(self._priors[idx])\n",
    "            liklihood = np.sum(np.log(self._pdf(idx, x)))\n",
    "            posterior = prior + liklihood\n",
    "            posteriors.append(posterior)\n",
    "\n",
    "        return self._classes(np.argmax(posteriors))\n",
    "\n",
    "    def _pdf(self,class_idx, x):\n",
    "        mean = self._mean[class_idx]\n",
    "        var = self._var[class_idx]\n",
    "        numerator = np.exp(-((x-mean) ** 2)/(2*var))\n",
    "        denominator = np.sqrt(2 * np.pi * var)\n",
    "        return numerator/denominator         \n",
    "\n",
    "    def predict(self, X):\n",
    "        y_pred = [self._predict(x) for x in X]\n",
    "        return y_pred"
   ]
  }
 ],
 "metadata": {
  "kernelspec": {
   "display_name": "Python 3 (ipykernel)",
   "language": "python",
   "name": "python3"
  },
  "language_info": {
   "codemirror_mode": {
    "name": "ipython",
    "version": 3
   },
   "file_extension": ".py",
   "mimetype": "text/x-python",
   "name": "python",
   "nbconvert_exporter": "python",
   "pygments_lexer": "ipython3",
   "version": "3.11.7"
  }
 },
 "nbformat": 4,
 "nbformat_minor": 5
}
